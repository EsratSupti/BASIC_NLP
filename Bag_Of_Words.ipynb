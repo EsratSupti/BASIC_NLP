{
  "nbformat": 4,
  "nbformat_minor": 0,
  "metadata": {
    "colab": {
      "provenance": []
    },
    "kernelspec": {
      "name": "python3",
      "display_name": "Python 3"
    },
    "language_info": {
      "name": "python"
    }
  },
  "cells": [
    {
      "cell_type": "code",
      "execution_count": 147,
      "metadata": {
        "id": "WIiPySl1iK7-"
      },
      "outputs": [],
      "source": [
        "A='The city was buzzing with excitement as the local basketball team prepared for the championship.\\\n",
        "  Fans gathered in the arena, waving flags and chanting for their favorite players. \\\n",
        "  The match promised to be a thrilling contest of skill and teamwork.'\n",
        "B='Meanwhile, across town, a marathon was taking place.\\\n",
        "   Thousands of runners filled the streets, each determined to cross the finish line.\\\n",
        "  Spectators stood along the route, clapping and shouting words of encouragement.'\n",
        "C='As the marathon continued, a stray dog ran alongside the runners for several kilometers.\\\n",
        "   People smiled and cheered for the dog, who seemed as determined as the athletes.\\\n",
        "   It quickly became the highlight of the race, and photos of the running dog went viral online.'\n",
        "D='At the same time, engineers were testing a new fitness tracking app.\\\n",
        " The app recorded heart rate, steps, and speed in real time, giving both runners and fans detailed statistics.\\\n",
        " Many marathon participants used it to monitor their performance.'\n",
        "\n",
        "E='In another part of the city, a robotics exhibition showcased drones designed to film live sports events.\\\n",
        " These drones could follow players automatically, capturing aerial footage and streaming it directly to online platforms.'"
      ]
    },
    {
      "cell_type": "markdown",
      "source": [
        " **Convert to Lower case**"
      ],
      "metadata": {
        "id": "hOsR_GorjbZh"
      }
    },
    {
      "cell_type": "code",
      "source": [
        "A = A.lower()\n",
        "B = B.lower()\n",
        "C = C.lower()\n",
        "D = D.lower()\n",
        "E = E.lower()"
      ],
      "metadata": {
        "id": "dz_rjbqAjbpq"
      },
      "execution_count": 148,
      "outputs": []
    },
    {
      "cell_type": "markdown",
      "source": [
        "**Split Words**"
      ],
      "metadata": {
        "id": "oKLp0Pfnjb_y"
      }
    },
    {
      "cell_type": "code",
      "source": [
        "word1 = A.split()\n",
        "word2 = B.split()\n",
        "word3 = C.split()\n",
        "word4 = D.split()\n",
        "word5 = E.split()"
      ],
      "metadata": {
        "id": "qngbYP0vjcMq"
      },
      "execution_count": 149,
      "outputs": []
    },
    {
      "cell_type": "markdown",
      "source": [
        "**Vocabulary build**"
      ],
      "metadata": {
        "id": "ev_qtZBKjz-c"
      }
    },
    {
      "cell_type": "code",
      "source": [
        "word_list = []\n",
        "for w in word1:\n",
        "    word_list.append(w)\n",
        "for w in word2:\n",
        "    word_list.append(w)\n",
        "for w in word3:\n",
        "    word_list.append(w)\n",
        "for w in word4:\n",
        "  word_list.append(w)\n",
        "for w in word5:\n",
        "  word_list.append(w)\n",
        "\n",
        "word_list = list(set(word_list))"
      ],
      "metadata": {
        "id": "WRYTyDr4j0HU"
      },
      "execution_count": 150,
      "outputs": []
    },
    {
      "cell_type": "markdown",
      "source": [
        "**Print word list**"
      ],
      "metadata": {
        "id": "HtW0FyGN75Bh"
      }
    },
    {
      "cell_type": "code",
      "source": [
        "print(word_list)"
      ],
      "metadata": {
        "colab": {
          "base_uri": "https://localhost:8080/"
        },
        "id": "f_X5aaVfmGkV",
        "outputId": "ffad43af-2248-4a87-daf5-d439f68b9891"
      },
      "execution_count": 151,
      "outputs": [
        {
          "output_type": "stream",
          "name": "stdout",
          "text": [
            "['who', 'engineers', 'tracking', 'town,', 'streets,', 'both', 'giving', 'excitement', 'aerial', 'monitor', 'runners', 'another', 'these', 'each', 'chanting', 'finish', 'seemed', 'filled', 'alongside', 'gathered', 'were', 'in', 'favorite', 'words', 'showcased', 'team', 'went', 'capturing', 'designed', 'fitness', 'city', 'flags', 'used', 'as', 'events.', 'skill', 'encouragement.', 'across', 'route,', 'and', 'recorded', 'contest', 'basketball', 'participants', 'waving', 'new', 'their', 'place.', 'same', 'along', 'players', 'footage', 'part', 'it', 'buzzing', 'taking', 'teamwork.', 'promised', 'real', 'thrilling', 'robotics', 'stood', 'race,', 'marathon', 'determined', 'dog,', 'testing', 'shouting', 'with', 'many', 'quickly', 'highlight', 'several', 'fans', 'viral', 'championship.', 'line.', 'stray', 'heart', 'rate,', 'online.', 'local', 'clapping', 'could', 'time,', 'automatically,', 'performance.', 'spectators', 'became', 'for', 'at', 'film', 'follow', 'arena,', 'detailed', 'sports', 'cheered', 'prepared', 'app.', 'match', 'drones', 'photos', 'continued,', 'directly', 'running', 'thousands', 'be', 'app', 'platforms.', 'ran', 'kilometers.', 'streaming', 'a', 'people', 'of', 'athletes.', 'steps,', 'was', 'the', 'live', 'players.', 'statistics.', 'city,', 'cross', 'exhibition', 'smiled', 'meanwhile,', 'online', 'to', 'speed', 'dog']\n"
          ]
        }
      ]
    },
    {
      "cell_type": "markdown",
      "source": [
        "**Stop Words Removal**"
      ],
      "metadata": {
        "id": "HNRIcg65kY2_"
      }
    },
    {
      "cell_type": "code",
      "source": [
        "stop_words = []\n",
        "for w in word_list:\n",
        "    total = ((word1.count(w) + word2.count(w) + word3.count(w) + word4.count(w) + word5.count(w))*100) / (len(word1)+len(word2)+len(word3)+len(word4)+len(word5))\n",
        "    if total >1.59:\n",
        "        stop_words.append(w)\n",
        "        print(w,total)\n",
        "\n",
        "\n",
        ""
      ],
      "metadata": {
        "id": "7cBvX6ZJkZJJ",
        "colab": {
          "base_uri": "https://localhost:8080/"
        },
        "outputId": "2af22c01-3309-47b4-b946-8f5208c972c9"
      },
      "execution_count": 152,
      "outputs": [
        {
          "output_type": "stream",
          "name": "stdout",
          "text": [
            "as 2.1164021164021163\n",
            "and 4.232804232804233\n",
            "for 2.1164021164021163\n",
            "a 2.6455026455026456\n",
            "of 3.1746031746031744\n",
            "the 9.523809523809524\n",
            "to 2.6455026455026456\n"
          ]
        }
      ]
    },
    {
      "cell_type": "markdown",
      "source": [],
      "metadata": {
        "id": "9X-FpBQElFQ7"
      }
    },
    {
      "cell_type": "code",
      "source": [
        "word_list = [w for w in word_list if w not in stop_words]\n"
      ],
      "metadata": {
        "id": "PHuO_mcqlFeZ"
      },
      "execution_count": 153,
      "outputs": []
    },
    {
      "cell_type": "markdown",
      "source": [
        "**Frequency count**"
      ],
      "metadata": {
        "id": "sc0hekEF8Ypr"
      }
    },
    {
      "cell_type": "code",
      "source": [
        "word_count1 = []\n",
        "word_count2 = []\n",
        "word_count3 = []\n",
        "word_count4 = []\n",
        "word_count5 = []\n",
        "\n",
        "for w in word_list:\n",
        "    word_count1.append(word1.count(w))\n",
        "    word_count2.append(word2.count(w))\n",
        "    word_count3.append(word3.count(w))\n",
        "    word_count4.append(word4.count(w))\n",
        "    word_count5.append(word5.count(w))\n",
        "\n"
      ],
      "metadata": {
        "id": "sXJruvq08Y8h"
      },
      "execution_count": 154,
      "outputs": []
    },
    {
      "cell_type": "code",
      "source": [
        "print(word_list)\n",
        "print (word_count1)\n",
        "print (word_count2)\n",
        "print (word_count3)\n",
        "print (word_count4)\n",
        "print (word_count5)"
      ],
      "metadata": {
        "colab": {
          "base_uri": "https://localhost:8080/"
        },
        "id": "jfhY8cCY9gXB",
        "outputId": "999224a6-bd8c-4910-d87c-7b9909a782dd"
      },
      "execution_count": 155,
      "outputs": [
        {
          "output_type": "stream",
          "name": "stdout",
          "text": [
            "['who', 'engineers', 'tracking', 'town,', 'streets,', 'both', 'giving', 'excitement', 'aerial', 'monitor', 'runners', 'another', 'these', 'each', 'chanting', 'finish', 'seemed', 'filled', 'alongside', 'gathered', 'were', 'in', 'favorite', 'words', 'showcased', 'team', 'went', 'capturing', 'designed', 'fitness', 'city', 'flags', 'used', 'events.', 'skill', 'encouragement.', 'across', 'route,', 'recorded', 'contest', 'basketball', 'participants', 'waving', 'new', 'their', 'place.', 'same', 'along', 'players', 'footage', 'part', 'it', 'buzzing', 'taking', 'teamwork.', 'promised', 'real', 'thrilling', 'robotics', 'stood', 'race,', 'marathon', 'determined', 'dog,', 'testing', 'shouting', 'with', 'many', 'quickly', 'highlight', 'several', 'fans', 'viral', 'championship.', 'line.', 'stray', 'heart', 'rate,', 'online.', 'local', 'clapping', 'could', 'time,', 'automatically,', 'performance.', 'spectators', 'became', 'at', 'film', 'follow', 'arena,', 'detailed', 'sports', 'cheered', 'prepared', 'app.', 'match', 'drones', 'photos', 'continued,', 'directly', 'running', 'thousands', 'be', 'app', 'platforms.', 'ran', 'kilometers.', 'streaming', 'people', 'athletes.', 'steps,', 'was', 'live', 'players.', 'statistics.', 'city,', 'cross', 'exhibition', 'smiled', 'meanwhile,', 'online', 'speed', 'dog']\n",
            "[0, 0, 0, 0, 0, 0, 0, 1, 0, 0, 0, 0, 0, 0, 1, 0, 0, 0, 0, 1, 0, 1, 1, 0, 0, 1, 0, 0, 0, 0, 1, 1, 0, 0, 1, 0, 0, 0, 0, 1, 1, 0, 1, 0, 1, 0, 0, 0, 0, 0, 0, 0, 1, 0, 1, 1, 0, 1, 0, 0, 0, 0, 0, 0, 0, 0, 1, 0, 0, 0, 0, 1, 0, 1, 0, 0, 0, 0, 0, 1, 0, 0, 0, 0, 0, 0, 0, 0, 0, 0, 1, 0, 0, 0, 1, 0, 1, 0, 0, 0, 0, 0, 0, 1, 0, 0, 0, 0, 0, 0, 0, 0, 1, 0, 1, 0, 0, 0, 0, 0, 0, 0, 0, 0]\n",
            "[0, 0, 0, 1, 1, 0, 0, 0, 0, 0, 1, 0, 0, 1, 0, 1, 0, 1, 0, 0, 0, 0, 0, 1, 0, 0, 0, 0, 0, 0, 0, 0, 0, 0, 0, 1, 1, 1, 0, 0, 0, 0, 0, 0, 0, 1, 0, 1, 0, 0, 0, 0, 0, 1, 0, 0, 0, 0, 0, 1, 0, 1, 1, 0, 0, 1, 0, 0, 0, 0, 0, 0, 0, 0, 1, 0, 0, 0, 0, 0, 1, 0, 0, 0, 0, 1, 0, 0, 0, 0, 0, 0, 0, 0, 0, 0, 0, 0, 0, 0, 0, 0, 1, 0, 0, 0, 0, 0, 0, 0, 0, 0, 1, 0, 0, 0, 0, 1, 0, 0, 1, 0, 0, 0]\n",
            "[1, 0, 0, 0, 0, 0, 0, 0, 0, 0, 1, 0, 0, 0, 0, 0, 1, 0, 1, 0, 0, 0, 0, 0, 0, 0, 1, 0, 0, 0, 0, 0, 0, 0, 0, 0, 0, 0, 0, 0, 0, 0, 0, 0, 0, 0, 0, 0, 0, 0, 0, 1, 0, 0, 0, 0, 0, 0, 0, 0, 1, 1, 1, 1, 0, 0, 0, 0, 1, 1, 1, 0, 1, 0, 0, 1, 0, 0, 1, 0, 0, 0, 0, 0, 0, 0, 1, 0, 0, 0, 0, 0, 0, 1, 0, 0, 0, 0, 1, 1, 0, 1, 0, 0, 0, 0, 1, 1, 0, 1, 1, 0, 0, 0, 0, 0, 0, 0, 0, 1, 0, 0, 0, 2]\n",
            "[0, 1, 1, 0, 0, 1, 1, 0, 0, 1, 1, 0, 0, 0, 0, 0, 0, 0, 0, 0, 1, 1, 0, 0, 0, 0, 0, 0, 0, 1, 0, 0, 1, 0, 0, 0, 0, 0, 1, 0, 0, 1, 0, 1, 1, 0, 1, 0, 0, 0, 0, 1, 0, 0, 0, 0, 1, 0, 0, 0, 0, 1, 0, 0, 1, 0, 0, 1, 0, 0, 0, 1, 0, 0, 0, 0, 1, 1, 0, 0, 0, 0, 2, 0, 1, 0, 0, 1, 0, 0, 0, 1, 0, 0, 0, 1, 0, 0, 0, 0, 0, 0, 0, 0, 1, 0, 0, 0, 0, 0, 0, 1, 0, 0, 0, 1, 0, 0, 0, 0, 0, 0, 1, 0]\n",
            "[0, 0, 0, 0, 0, 0, 0, 0, 1, 0, 0, 1, 1, 0, 0, 0, 0, 0, 0, 0, 0, 1, 0, 0, 1, 0, 0, 1, 1, 0, 0, 0, 0, 1, 0, 0, 0, 0, 0, 0, 0, 0, 0, 0, 0, 0, 0, 0, 1, 1, 1, 1, 0, 0, 0, 0, 0, 0, 1, 0, 0, 0, 0, 0, 0, 0, 0, 0, 0, 0, 0, 0, 0, 0, 0, 0, 0, 0, 0, 0, 0, 1, 0, 1, 0, 0, 0, 0, 1, 1, 0, 0, 1, 0, 0, 0, 0, 2, 0, 0, 1, 0, 0, 0, 0, 1, 0, 0, 1, 0, 0, 0, 0, 1, 0, 0, 1, 0, 1, 0, 0, 1, 0, 0]\n"
          ]
        }
      ]
    },
    {
      "cell_type": "markdown",
      "source": [
        "Distance Measure"
      ],
      "metadata": {
        "id": "wfi0nXjC-gIB"
      }
    },
    {
      "cell_type": "code",
      "source": [
        "def distance_measure(list1, list2):\n",
        "    s = 0\n",
        "    for i in range(len(list1)):\n",
        "        s = s + (list1[i] - list2[i])*(list1[i] - list2[i])\n",
        "    return s\n",
        "AB = distance_measure(word_count1, word_count2)\n",
        "AC = distance_measure(word_count1, word_count3)\n",
        "AD = distance_measure(word_count1, word_count4)\n",
        "AE = distance_measure(word_count1, word_count5)\n",
        "BC = distance_measure(word_count2, word_count3)\n",
        "BD = distance_measure(word_count2, word_count4)\n",
        "BE = distance_measure(word_count2, word_count5)\n",
        "CD = distance_measure(word_count3, word_count4)\n",
        "CE = distance_measure(word_count3, word_count5)\n",
        "DE = distance_measure(word_count4, word_count5)"
      ],
      "metadata": {
        "id": "MqKdL-B0-fOc"
      },
      "execution_count": 156,
      "outputs": []
    },
    {
      "cell_type": "code",
      "source": [
        "print(\"Distance of AB :\", AB)\n",
        "print(\"Distance of AC :\", AC)\n",
        "print(\"Distance of AD :\", AD)\n",
        "print(\"Distance of AE :\", AE)\n",
        "print(\"Distance of BC :\", BC)\n",
        "print(\"Distance of BD :\", BD)\n",
        "print(\"Distance of BE :\", BE)\n",
        "print(\"Distance of CD :\", CD)\n",
        "print(\"Distance of CE :\", CE)\n",
        "print(\"Distance of DE :\", DE)\n"
      ],
      "metadata": {
        "colab": {
          "base_uri": "https://localhost:8080/"
        },
        "id": "EzUBJKDSBaaQ",
        "outputId": "2a33eabe-a9f8-4847-c28c-fc3c0f1cc6cc"
      },
      "execution_count": 157,
      "outputs": [
        {
          "output_type": "stream",
          "name": "stdout",
          "text": [
            "Distance of AB : 49\n",
            "Distance of AC : 57\n",
            "Distance of AD : 56\n",
            "Distance of AE : 54\n",
            "Distance of BC : 48\n",
            "Distance of BD : 55\n",
            "Distance of BE : 53\n",
            "Distance of CD : 59\n",
            "Distance of CE : 57\n",
            "Distance of DE : 60\n"
          ]
        }
      ]
    }
  ]
}